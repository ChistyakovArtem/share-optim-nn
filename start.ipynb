{
 "cells": [
  {
   "cell_type": "code",
   "execution_count": 1,
   "id": "78180fb9",
   "metadata": {},
   "outputs": [],
   "source": [
    "import pandas as pd\n",
    "from tech_core.feature_pipeline import FeaturesPipeline\n",
    "\n",
    "path_to_data = '../data/'"
   ]
  },
  {
   "cell_type": "code",
   "execution_count": 6,
   "id": "ce922e7c",
   "metadata": {},
   "outputs": [],
   "source": [
    "# from tqdm import tqdm\n",
    "cmf_dim = asset_dim = num_assets = 488\n",
    "# for common_feats, asset_feats, fut_ret in tqdm(reader):\n",
    "#     cmf_dim = common_feats.shape[1]\n",
    "#     asset_dim = asset_feats.shape[2]\n",
    "#     num_assets = asset_feats.shape[1]\n",
    "#     break"
   ]
  },
  {
   "cell_type": "code",
   "execution_count": 7,
   "id": "0aa2c7ec",
   "metadata": {},
   "outputs": [
    {
     "ename": "AttributeError",
     "evalue": "'FastCSVChunkReader' object has no attribute 'end_idx'",
     "output_type": "error",
     "traceback": [
      "\u001b[0;31m---------------------------------------------------------------------------\u001b[0m",
      "\u001b[0;31mAttributeError\u001b[0m                            Traceback (most recent call last)",
      "Cell \u001b[0;32mIn[7], line 19\u001b[0m\n\u001b[1;32m      8\u001b[0m split_names \u001b[38;5;241m=\u001b[39m [\u001b[38;5;124m'\u001b[39m\u001b[38;5;124mtrain\u001b[39m\u001b[38;5;124m'\u001b[39m, \u001b[38;5;124m'\u001b[39m\u001b[38;5;124mtest\u001b[39m\u001b[38;5;124m'\u001b[39m]\n\u001b[1;32m     10\u001b[0m model \u001b[38;5;241m=\u001b[39m SimplePortfolioAllocator(\n\u001b[1;32m     11\u001b[0m     cmf_dim\u001b[38;5;241m=\u001b[39mcmf_dim,\n\u001b[1;32m     12\u001b[0m     asset_dim\u001b[38;5;241m=\u001b[39masset_dim,\n\u001b[0;32m   (...)\u001b[0m\n\u001b[1;32m     16\u001b[0m     head_hidden\u001b[38;5;241m=\u001b[39m\u001b[38;5;241m16\u001b[39m\n\u001b[1;32m     17\u001b[0m )\n\u001b[0;32m---> 19\u001b[0m pipeline \u001b[38;5;241m=\u001b[39m \u001b[43mFeaturesPipeline\u001b[49m\u001b[43m(\u001b[49m\u001b[43mpath_to_data\u001b[49m\u001b[43m,\u001b[49m\u001b[43m \u001b[49m\u001b[43mpadding\u001b[49m\u001b[38;5;241;43m=\u001b[39;49m\u001b[38;5;241;43m35\u001b[39;49m\u001b[43m,\u001b[49m\u001b[43m \u001b[49m\u001b[43mchunk_size\u001b[49m\u001b[38;5;241;43m=\u001b[39;49m\u001b[38;5;241;43m1000\u001b[39;49m\u001b[43m,\u001b[49m\n\u001b[1;32m     20\u001b[0m \u001b[43m                        \u001b[49m\u001b[43msplit_dates\u001b[49m\u001b[38;5;241;43m=\u001b[39;49m\u001b[43msplit_dates\u001b[49m\u001b[43m,\u001b[49m\n\u001b[1;32m     21\u001b[0m \u001b[43m                        \u001b[49m\u001b[43msplit_names\u001b[49m\u001b[38;5;241;43m=\u001b[39;49m\u001b[43msplit_names\u001b[49m\u001b[43m)\u001b[49m\n\u001b[1;32m     23\u001b[0m \u001b[38;5;66;03m# Big NN\u001b[39;00m\n\u001b[1;32m     24\u001b[0m \u001b[38;5;66;03m# Sharpe Ratio (MSE-guided) for the epoch: 0.0106\u001b[39;00m\n\u001b[1;32m     25\u001b[0m \u001b[38;5;66;03m# Total MSE loss for the epoch: 0.0000007199\u001b[39;00m\n\u001b[1;32m     26\u001b[0m \u001b[38;5;66;03m# Pnl : 0.2\u001b[39;00m\n\u001b[1;32m     28\u001b[0m \u001b[38;5;28;01mimport\u001b[39;00m \u001b[38;5;21;01mtorch\u001b[39;00m\n",
      "File \u001b[0;32m~/PetProjects/NN_for_PM/tech_core/feature_pipeline.py:22\u001b[0m, in \u001b[0;36mFeaturesPipeline.__init__\u001b[0;34m(self, path_to_data, padding, chunk_size, split_dates, split_names)\u001b[0m\n\u001b[1;32m     20\u001b[0m \u001b[38;5;28;01mif\u001b[39;00m split_dates \u001b[38;5;129;01mand\u001b[39;00m split_names:\n\u001b[1;32m     21\u001b[0m     \u001b[38;5;28mself\u001b[39m\u001b[38;5;241m.\u001b[39msplit_manager \u001b[38;5;241m=\u001b[39m SplitManager(split_dates, split_names)\n\u001b[0;32m---> 22\u001b[0m     \u001b[38;5;28;43mself\u001b[39;49m\u001b[38;5;241;43m.\u001b[39;49m\u001b[43m_build_splits\u001b[49m\u001b[43m(\u001b[49m\u001b[43m)\u001b[49m\n",
      "File \u001b[0;32m~/PetProjects/NN_for_PM/tech_core/feature_pipeline.py:30\u001b[0m, in \u001b[0;36mFeaturesPipeline._build_splits\u001b[0;34m(self)\u001b[0m\n\u001b[1;32m     28\u001b[0m \u001b[38;5;28;01mwhile\u001b[39;00m \u001b[38;5;28;01mTrue\u001b[39;00m:\n\u001b[1;32m     29\u001b[0m     \u001b[38;5;28;01mtry\u001b[39;00m:\n\u001b[0;32m---> 30\u001b[0m         chunk \u001b[38;5;241m=\u001b[39m \u001b[38;5;28;43mnext\u001b[39;49m\u001b[43m(\u001b[49m\u001b[38;5;28;43mself\u001b[39;49m\u001b[38;5;241;43m.\u001b[39;49m\u001b[43mreader\u001b[49m\u001b[43m)\u001b[49m\n\u001b[1;32m     31\u001b[0m         all_times\u001b[38;5;241m.\u001b[39mextend(chunk\u001b[38;5;241m.\u001b[39mindex)\n\u001b[1;32m     32\u001b[0m     \u001b[38;5;28;01mexcept\u001b[39;00m \u001b[38;5;167;01mStopIteration\u001b[39;00m:\n",
      "File \u001b[0;32m~/PetProjects/NN_for_PM/tech_core/reader.py:35\u001b[0m, in \u001b[0;36mFastCSVChunkReader.__next__\u001b[0;34m(self)\u001b[0m\n\u001b[1;32m     34\u001b[0m \u001b[38;5;28;01mdef\u001b[39;00m \u001b[38;5;21m__next__\u001b[39m(\u001b[38;5;28mself\u001b[39m):\n\u001b[0;32m---> 35\u001b[0m     \u001b[38;5;28;01mif\u001b[39;00m \u001b[38;5;28mself\u001b[39m\u001b[38;5;241m.\u001b[39mcurrent_idx \u001b[38;5;241m>\u001b[39m\u001b[38;5;241m=\u001b[39m \u001b[38;5;28;43mself\u001b[39;49m\u001b[38;5;241;43m.\u001b[39;49m\u001b[43mend_idx\u001b[49m:\n\u001b[1;32m     36\u001b[0m         \u001b[38;5;28;01mraise\u001b[39;00m \u001b[38;5;167;01mStopIteration\u001b[39;00m\n\u001b[1;32m     38\u001b[0m     start \u001b[38;5;241m=\u001b[39m \u001b[38;5;28mself\u001b[39m\u001b[38;5;241m.\u001b[39mcurrent_idx\n",
      "\u001b[0;31mAttributeError\u001b[0m: 'FastCSVChunkReader' object has no attribute 'end_idx'"
     ]
    }
   ],
   "source": [
    "from tech_core.losses import StreamingSharpeLoss\n",
    "from tech_core.nn_builder import SimplePortfolioAllocator, DeepPortfolioAllocator\n",
    "import torch\n",
    "\n",
    "split_dates = [\n",
    "    pd.Timestamp(\"2025-01-01\")\n",
    "]\n",
    "split_names = ['train', 'test']\n",
    "\n",
    "model = SimplePortfolioAllocator(\n",
    "    cmf_dim=cmf_dim,\n",
    "    asset_dim=asset_dim,\n",
    "    num_assets=num_assets,\n",
    "    hidden_cmf=64,\n",
    "    hidden_asset=32,\n",
    "    head_hidden=16\n",
    ")\n",
    "\n",
    "pipeline = FeaturesPipeline(path_to_data, padding=35, chunk_size=1000,\n",
    "                        split_dates=split_dates,\n",
    "                        split_names=split_names)\n",
    "\n",
    "# Big NN\n",
    "# Sharpe Ratio (MSE-guided) for the epoch: 0.0106\n",
    "# Total MSE loss for the epoch: 0.0000007199\n",
    "# Pnl : 0.2\n",
    "\n",
    "import torch\n",
    "from tqdm import tqdm\n",
    "optimizer = torch.optim.Adam(model.parameters(), lr=1e-2)\n",
    "\n",
    "device = torch.device(\"cuda\" if torch.cuda.is_available() else \"cpu\")\n",
    "model.to(device)\n",
    "num_epochs = 100 # Количество эпох обучения\n",
    "fees = 1.5e-4\n",
    "for epoch in range(num_epochs):\n",
    "    loss_fn = StreamingSharpeLoss(fee=fees)\n",
    "    loss_fn.reset()\n",
    "    pipeline.reset()\n",
    "    for common_feats, asset_feats, fut_ret in tqdm(pipeline.iterate('train'), desc=f\"Epoch {epoch+1}\"):\n",
    "\n",
    "        # Перевод в тензоры\n",
    "        common_feats = torch.tensor(common_feats.values, dtype=torch.float32).to(device)       # (T, d_common)\n",
    "        asset_feats  = torch.tensor(asset_feats,         dtype=torch.float32).to(device)       # (T, n_assets, d_asset)\n",
    "        fut_ret      = torch.tensor(fut_ret.values,      dtype=torch.float32).to(device)       # (T, n_assets)\n",
    "\n",
    "        if len(common_feats) != 1000:\n",
    "            continue\n",
    "\n",
    "        optimizer.zero_grad()\n",
    "\n",
    "        # Вычисляем веса\n",
    "        weights = model(common_feats, asset_feats)  # (T, n_assets)\n",
    "        # Обновляем метрику\n",
    "        loss_value = loss_fn.forward(\n",
    "            weights=weights,\n",
    "            returns=fut_ret\n",
    "        )\n",
    "        loss_value.backward()\n",
    "\n",
    "        optimizer.step()\n",
    "\n",
    "    loss_fn.plot_whole_epoch_loss()  # Выводим Sharpe Ratio за эпоху"
   ]
  },
  {
   "cell_type": "code",
   "execution_count": null,
   "id": "121c78fc",
   "metadata": {},
   "outputs": [],
   "source": []
  }
 ],
 "metadata": {
  "kernelspec": {
   "display_name": "Python 3",
   "language": "python",
   "name": "python3"
  },
  "language_info": {
   "codemirror_mode": {
    "name": "ipython",
    "version": 3
   },
   "file_extension": ".py",
   "mimetype": "text/x-python",
   "name": "python",
   "nbconvert_exporter": "python",
   "pygments_lexer": "ipython3",
   "version": "3.10.12"
  }
 },
 "nbformat": 4,
 "nbformat_minor": 5
}
